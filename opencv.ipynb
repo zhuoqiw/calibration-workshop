{
 "cells": [
  {
   "cell_type": "code",
   "execution_count": null,
   "metadata": {
    "tags": []
   },
   "outputs": [],
   "source": [
    "%matplotlib widget\n",
    "\n",
    "import cv2 as cv\n",
    "import numpy as np\n",
    "import yaml\n",
    "import matplotlib.pyplot as plt\n",
    "import ipywidgets as widgets\n",
    "from ipywidgets import IntText, VBox, HBox, Checkbox, FloatText"
   ]
  },
  {
   "cell_type": "code",
   "execution_count": null,
   "metadata": {},
   "outputs": [],
   "source": [
    "objectPoints = []\n",
    "imagePoints = []\n",
    "IMAGE_SIZE = []\n",
    "cameraMatrix = None\n",
    "distCoeffs = None\n",
    "flags = 0\n",
    "criteria = None\n",
    "\n",
    "TAB = {}"
   ]
  },
  {
   "cell_type": "code",
   "execution_count": null,
   "metadata": {
    "tags": []
   },
   "outputs": [],
   "source": [
    "uploader = widgets.FileUpload(accept='.yml', multiple=False)\n",
    "display(uploader)"
   ]
  },
  {
   "cell_type": "code",
   "execution_count": null,
   "metadata": {
    "tags": []
   },
   "outputs": [],
   "source": [
    "calib, = yaml.safe_load(uploader.value[0].content.tobytes())\n",
    "camera = calib['camera']\n",
    "# focus = camera['focus']\n",
    "# sx = camera['sx']\n",
    "# sy = camera['sy']\n",
    "# cx = camera['cx']\n",
    "# cy = camera['cy']\n",
    "# k1 = camera['k1']\n",
    "# k2 = camera['k2']\n",
    "# k3 = camera['k3']\n",
    "# p1 = camera['p1']\n",
    "# p2 = camera['p2']\n",
    "image_width = camera['image_width'] if 'image_width' in camera else 0\n",
    "image_height = camera['image_height'] if 'image_height' in camera else 0\n",
    "IMAGE_SIZE = [image_width, image_height]\n",
    "\n",
    "object_points = [np.array(p, np.float32) for p in calib['calib_obj']['object_points']]\n",
    "image_points = [np.array(p, np.float32) for p in calib['calib_obj']['observ_points']]\n",
    "# reproject_points = [np.array(p) for p in calib['calib_obj']['reproject_points']]\n",
    "# rvecs = np.array(calib['calib_obj']['rvecs'])\n",
    "# tvecs = np.array(calib['calib_obj']['tvecs'])\n",
    "# diff_points = [observ_point - reproject_point for observ_point, reproject_point in zip(observ_points, reproject_points)]\n",
    "\n",
    "npos = len(object_points) if len(image_points) == len(object_points) else None\n",
    "# ylim_min, ylim_max = np.min(diff_points), np.max(diff_points)\n",
    "# xlim_max = np.max([p.shape[0] for p in object_points])"
   ]
  },
  {
   "cell_type": "code",
   "execution_count": null,
   "metadata": {
    "tags": []
   },
   "outputs": [],
   "source": [
    "class ToggleMultipleButtons():\n",
    "    def __init__(self, *, options, description=''):\n",
    "        tbs = [widgets.ToggleButton(description=str(i), icon='check', value=True) for i in options]\n",
    "        self.value = [t.value for t in tbs]\n",
    "        for i, t in enumerate(tbs):\n",
    "            f = self.handle_toggle_change(i)\n",
    "            t.observe(f, names='value')\n",
    "        box_layout = widgets.Layout(flex_flow='row wrap')\n",
    "        box = widgets.Box(children=tbs, layout=box_layout)\n",
    "        button_placehold = widgets.Button(\n",
    "            description=description,\n",
    "            disabled=True,\n",
    "            tooltip=description\n",
    "        )\n",
    "        button_all = widgets.Button(\n",
    "            description='all',\n",
    "            disabled=False,\n",
    "            button_style='', # 'success', 'info', 'warning', 'danger' or ''\n",
    "            tooltip='',\n",
    "            icon='plus-square'\n",
    "        )\n",
    "        button_all.on_click(self.select_all)\n",
    "        button_none = widgets.Button(\n",
    "            description='none',\n",
    "            disabled=False,\n",
    "            button_style='', # 'success', 'info', 'warning', 'danger' or ''\n",
    "            tooltip='',\n",
    "            icon='minus-square'\n",
    "        )\n",
    "        button_none.on_click(self.select_none)\n",
    "        hbox = widgets.HBox([button_placehold, button_all, button_none])\n",
    "        self.vbox = widgets.VBox([hbox, box])\n",
    "        \n",
    "        self.tbs = tbs\n",
    "    \n",
    "    def handle_toggle_change(self, index):\n",
    "        def fn(change):\n",
    "            self.value[index] = change.new\n",
    "            if change.owner.value:\n",
    "                change.owner.icon='check'\n",
    "            else:\n",
    "                change.owner.icon='close'\n",
    "        return fn\n",
    "        \n",
    "    def _ipython_display_(self):\n",
    "        display(self.vbox)\n",
    "    \n",
    "    def select_all(self, b):\n",
    "        for t in self.tbs:\n",
    "            t.value = True\n",
    "    \n",
    "    def select_none(self, b):\n",
    "        for t in self.tbs:\n",
    "            t.value = False"
   ]
  },
  {
   "cell_type": "code",
   "execution_count": null,
   "metadata": {
    "tags": []
   },
   "outputs": [],
   "source": [
    "t = ToggleMultipleButtons(options=[str(i) for i in range(npos)], description='Select:')"
   ]
  },
  {
   "cell_type": "code",
   "execution_count": null,
   "metadata": {
    "tags": []
   },
   "outputs": [],
   "source": [
    "w = IntText(description='Width', value=image_width, tooltip='Image width (columns)')\n",
    "def fn(change):\n",
    "    IMAGE_SIZE[0] = change['new']\n",
    "w.observe(fn, names='value')\n",
    "\n",
    "h = IntText(description='Height', value=image_height, tooltip='Image height (rows)')\n",
    "def fn(change):\n",
    "    IMAGE_SIZE[1] = change['new']\n",
    "h.observe(fn, names='value')\n",
    "\n",
    "VBox([w, h])\n"
   ]
  },
  {
   "cell_type": "code",
   "execution_count": null,
   "metadata": {
    "tags": []
   },
   "outputs": [],
   "source": [
    "print(IMAGE_SIZE)"
   ]
  },
  {
   "cell_type": "code",
   "execution_count": null,
   "metadata": {
    "tags": []
   },
   "outputs": [],
   "source": [
    "m0 = Checkbox(\n",
    "    value=False,\n",
    "    description='CALIB_USE_INTRINSIC_GUESS',\n",
    "    layout={'width': 'max-content'}\n",
    ")\n",
    "\n",
    "m1 = Checkbox(\n",
    "    value=False,\n",
    "    description='CALIB_RATIONAL_MODEL'\n",
    ")\n",
    "\n",
    "m2 = Checkbox(\n",
    "    value=False,\n",
    "    description='CALIB_THIN_PRISM_MODEL'\n",
    ")\n",
    "\n",
    "m3 = Checkbox(\n",
    "    value=False,\n",
    "    description='CALIB_TILTED_MODEL'\n",
    ")\n",
    "\n",
    "TAB['General'] = VBox([m0, m1, m2, m3])"
   ]
  },
  {
   "cell_type": "code",
   "execution_count": null,
   "metadata": {
    "tags": []
   },
   "outputs": [],
   "source": [
    "fx = FloatText(description='$f_x$', value=1., tooltip='Focal length in x')\n",
    "fy = FloatText(description='$f_y$', value=1., tooltip='Focal length in y')\n",
    "cx = FloatText(description='$c_x$', tooltip='Center of coordinates in x')\n",
    "cy = FloatText(description='$c_y$', tooltip='Center of coordinates in y')\n",
    "c1 = Checkbox(\n",
    "    value=False,\n",
    "    description='CALIB_FIX_ASPECT_RATIO'\n",
    ")\n",
    "\n",
    "c2 = Checkbox(\n",
    "    value=False,\n",
    "    description='CALIB_FIX_FOCAL_LENGTH'\n",
    ")\n",
    "\n",
    "c3 = Checkbox(\n",
    "    value=False,\n",
    "    description='CALIB_FIX_PRINCIPAL_POINT'\n",
    ")\n",
    "\n",
    "def on_value_change(change):\n",
    "    if change.new:\n",
    "        fx.disabled = True\n",
    "    else:\n",
    "        fx.disabled = False\n",
    "    \n",
    "c1.observe(on_value_change, names='value')\n",
    "\n",
    "def on_value_change(change):\n",
    "    if change.new:\n",
    "        fx.disabled = True\n",
    "        fy.disabled = True\n",
    "    else:\n",
    "        if c1.value:\n",
    "            pass\n",
    "        else:\n",
    "            fx.disabled = False\n",
    "        fy.disabled = False\n",
    "\n",
    "c2.observe(on_value_change, names='value')\n",
    "\n",
    "def on_value_change(change):\n",
    "    if change.new:\n",
    "        cx.disabled = True\n",
    "        cy.disabled = True\n",
    "    else:\n",
    "        cx.disabled = False\n",
    "        cy.disabled = False\n",
    "\n",
    "c3.observe(on_value_change, names='value')\n",
    "\n",
    "TAB['Intrinsic matrix'] = HBox([VBox([fx, fy, cx, cy]), VBox([c1, c2, c3])])"
   ]
  },
  {
   "cell_type": "code",
   "execution_count": null,
   "metadata": {
    "tags": []
   },
   "outputs": [],
   "source": [
    "items = [widgets.Label(str(i)) for i in range(24)]\n",
    "widgets.Box(items)"
   ]
  },
  {
   "cell_type": "code",
   "execution_count": null,
   "metadata": {
    "tags": []
   },
   "outputs": [],
   "source": [
    "des_k = ['$k_' + str(i) + '$' for i in range(1, 7)]\n",
    "des_c = ['CALIB_FIX_K' + str(i) for i in range(1, 7)]\n",
    "tip_k = ['Raidal coefficients: ' + str(i) for i in range(1, 7)]\n",
    "disabled = [False] * 3 + [True] * 3 \n",
    "k = [widgets.FloatText(description=des, disabled=d, tooltip=t) for des, d, t in zip(des_k, disabled, tip_k)]\n",
    "c = [widgets.Checkbox(description=des, disabled=d) for des, d in zip(des_c, disabled)]\n",
    "\n",
    "for kn, cn in zip(k, c):\n",
    "    def on_value_change(change, ek=kn):\n",
    "        if change.new:\n",
    "            ek.disabled = True\n",
    "        else:\n",
    "            ek.disabled = False\n",
    "    cn.observe(on_value_change, names='value')\n",
    "\n",
    "TAB['Radial'] = widgets.VBox([widgets.HBox([wk, wc]) for wk, wc in zip(k, c)])"
   ]
  },
  {
   "cell_type": "code",
   "execution_count": null,
   "metadata": {
    "tags": []
   },
   "outputs": [],
   "source": [
    "p1 = widgets.FloatText(description='$p_1$', tooltip='Tangential coefficients: 1')\n",
    "p2 = widgets.FloatText(description='$p_2$', tooltip='Tangential coefficients: 2')\n",
    "c = widgets.Checkbox(description='CALIB_ZERO_TANGENT_DIST')\n",
    "def fn(change):\n",
    "    if change.new:\n",
    "        p1.value = 0.\n",
    "        p2.value = 0.\n",
    "        p1.disabled = True\n",
    "        p2.disabled = True\n",
    "    else:\n",
    "        p1.disabled = False\n",
    "        p2.disabled = False\n",
    "\n",
    "c.observe(fn, names='value')\n",
    "\n",
    "TAB['Tangential'] = widgets.VBox([c, p1, p2])"
   ]
  },
  {
   "cell_type": "code",
   "execution_count": null,
   "metadata": {
    "tags": []
   },
   "outputs": [],
   "source": [
    "des_s = ['$s_' + str(i) + '$' for i in range(1, 5)]\n",
    "tip_s = ['Thin prism coefficients: ' + str(i) for i in range(1, 5)]\n",
    "s = [widgets.FloatText(description=des, tooltip=t) for des, t in zip(des_s, tip_s)]\n",
    "c = widgets.Checkbox(description='CALIB_FIX_S1_S2_S3_S4')\n",
    "\n",
    "def fn(change):\n",
    "    if change.new:\n",
    "        for w in s:\n",
    "            w.disabled = True\n",
    "    else:\n",
    "        for w in s:\n",
    "            w.disabled = False\n",
    "\n",
    "c.observe(fn, names='value')\n",
    "TAB['Thin prism'] = widgets.VBox([c] + s)"
   ]
  },
  {
   "cell_type": "code",
   "execution_count": null,
   "metadata": {
    "tags": []
   },
   "outputs": [],
   "source": [
    "tx = widgets.FloatText(description='$\\\\tau_x$', tooltip='Tilted coefficients: x')\n",
    "ty = widgets.FloatText(description='$\\\\tau_y$', tooltip='Tilted coefficients: y')\n",
    "c = widgets.Checkbox(description='CALIB_FIX_TAUX_TAUY')\n",
    "def fn(change):\n",
    "    if change.new:\n",
    "        tx.disabled = True\n",
    "        ty.disabled = True\n",
    "    else:\n",
    "        tx.disabled = False\n",
    "        ty.disabled = False\n",
    "c.observe(fn, names='value')\n",
    "TAB['Tilted'] = widgets.VBox([c, tx, ty])"
   ]
  },
  {
   "cell_type": "code",
   "execution_count": null,
   "metadata": {
    "tags": []
   },
   "outputs": [],
   "source": [
    "m = widgets.IntText(description='Count', tooltip='Max iteration', disabled=True)\n",
    "e = widgets.FloatText(description='EPS', tooltip='Desired accuracy epsilon', disabled=True)\n",
    "cm = widgets.Checkbox(description='Enable')\n",
    "ce = widgets.Checkbox(description='Enable')\n",
    "def fn(change):\n",
    "    if change.new:\n",
    "        m.disabled = False\n",
    "    else:\n",
    "        m.disabled = True\n",
    "cm.observe(fn, names='value')\n",
    "\n",
    "def fn(change):\n",
    "    if change.new:\n",
    "        e.disabled = False\n",
    "    else:\n",
    "        e.disabled = True\n",
    "ce.observe(fn, names='value')\n",
    "\n",
    "TAB['Term criteria'] = widgets.VBox([widgets.HBox([m, cm]), widgets.HBox([e, ce])])"
   ]
  },
  {
   "cell_type": "code",
   "execution_count": null,
   "metadata": {
    "tags": []
   },
   "outputs": [],
   "source": [
    "output = widgets.Output()\n",
    "\n",
    "tab = widgets.Tab()\n",
    "#tab.titles = ['General', 'Intrinsic matrix', 'Radial', 'Tangential', 'Thin prism', 'Tilted', 'TermCriteria']\n",
    "\n",
    "tab.children = list(TAB.values())\n",
    "tab.titles = list(TAB.keys())\n",
    "\n",
    "tab"
   ]
  },
  {
   "cell_type": "code",
   "execution_count": null,
   "metadata": {
    "tags": []
   },
   "outputs": [],
   "source": [
    "use_intrinsic_guess = widgets.Checkbox(\n",
    "    value=False,\n",
    "    description='Check me',\n",
    "    tooltip='tooltip',\n",
    "    disabled=False,\n",
    "    indent=False\n",
    ")\n",
    "\n",
    "display(use_intrinsic_guess)"
   ]
  },
  {
   "cell_type": "code",
   "execution_count": null,
   "metadata": {},
   "outputs": [],
   "source": [
    "ret, mtx, dist, rvecs, tvecs = cv.calibrateCamera(\n",
    "    object_points,\n",
    "    observ_points,\n",
    "    imageSize=(image_width, image_height),\n",
    "    cameraMatrix=None,\n",
    "    distCoeffs=None\n",
    ")"
   ]
  }
 ],
 "metadata": {
  "kernelspec": {
   "display_name": "Python 3 (ipykernel)",
   "language": "python",
   "name": "python3"
  },
  "language_info": {
   "codemirror_mode": {
    "name": "ipython",
    "version": 3
   },
   "file_extension": ".py",
   "mimetype": "text/x-python",
   "name": "python",
   "nbconvert_exporter": "python",
   "pygments_lexer": "ipython3",
   "version": "3.10.6"
  },
  "toc-showmarkdowntxt": false,
  "vscode": {
   "interpreter": {
    "hash": "3bea98c630c5ad8030672f52f3ae040396079bc3d076a6e9349775033bd511cc"
   }
  }
 },
 "nbformat": 4,
 "nbformat_minor": 4
}
