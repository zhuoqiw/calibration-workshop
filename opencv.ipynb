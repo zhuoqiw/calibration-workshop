{
 "cells": [
  {
   "cell_type": "code",
   "execution_count": 1,
   "metadata": {},
   "outputs": [],
   "source": [
    "%matplotlib widget\n",
    "\n",
    "import cv2 as cv\n",
    "import numpy as np\n",
    "import yaml\n",
    "import matplotlib.pyplot as plt\n",
    "import ipywidgets as widgets\n",
    "from ipywidgets import interact"
   ]
  },
  {
   "cell_type": "code",
   "execution_count": null,
   "metadata": {},
   "outputs": [],
   "source": [
    "uploader = widgets.FileUpload(accept='.yml', multiple=False)\n",
    "display(uploader)"
   ]
  },
  {
   "cell_type": "code",
   "execution_count": null,
   "metadata": {},
   "outputs": [],
   "source": [
    "calib, = yaml.safe_load(uploader.value[0].content.tobytes())\n",
    "camera = calib['camera']\n",
    "focus = camera['focus']\n",
    "sx = camera['sx']\n",
    "sy = camera['sy']\n",
    "cx = camera['cx']\n",
    "cy = camera['cy']\n",
    "k1 = camera['k1']\n",
    "k2 = camera['k2']\n",
    "k3 = camera['k3']\n",
    "p1 = camera['p1']\n",
    "p2 = camera['p2']\n",
    "image_width = camera['image_width']\n",
    "image_height = camera['image_height']\n",
    "\n",
    "observ_points = [np.array(p, np.float32) for p in calib['calib_obj']['observ_points']]\n",
    "object_points = [np.array(p, np.float32) for p in calib['calib_obj']['object_points']]\n",
    "# reproject_points = [np.array(p) for p in calib['calib_obj']['reproject_points']]\n",
    "# rvecs = np.array(calib['calib_obj']['rvecs'])\n",
    "# tvecs = np.array(calib['calib_obj']['tvecs'])\n",
    "# diff_points = [observ_point - reproject_point for observ_point, reproject_point in zip(observ_points, reproject_points)]\n",
    "\n",
    "npos = len(object_points)\n",
    "# ylim_min, ylim_max = np.min(diff_points), np.max(diff_points)\n",
    "# xlim_max = np.max([p.shape[0] for p in object_points])"
   ]
  },
  {
   "cell_type": "code",
   "execution_count": null,
   "metadata": {},
   "outputs": [],
   "source": [
    "ret, mtx, dist, rvecs, tvecs = cv.calibrateCamera(object_points, observ_points, imageSize=(image_width, image_height), cameraMatrix=None, distCoeffs=None)"
   ]
  }
 ],
 "metadata": {
  "kernelspec": {
   "display_name": "Python 3.10.6 ('.venv': venv)",
   "language": "python",
   "name": "python3"
  },
  "language_info": {
   "codemirror_mode": {
    "name": "ipython",
    "version": 3
   },
   "file_extension": ".py",
   "mimetype": "text/x-python",
   "name": "python",
   "nbconvert_exporter": "python",
   "pygments_lexer": "ipython3",
   "version": "3.10.6"
  },
  "orig_nbformat": 4,
  "vscode": {
   "interpreter": {
    "hash": "3bea98c630c5ad8030672f52f3ae040396079bc3d076a6e9349775033bd511cc"
   }
  }
 },
 "nbformat": 4,
 "nbformat_minor": 2
}
