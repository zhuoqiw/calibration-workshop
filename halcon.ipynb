{
 "cells": [
  {
   "cell_type": "code",
   "execution_count": null,
   "metadata": {},
   "outputs": [],
   "source": [
    "%matplotlib widget\n",
    "\n",
    "import numpy as np\n",
    "import yaml\n",
    "import matplotlib.pyplot as plt\n",
    "import ipywidgets as widgets\n",
    "from ipywidgets import interact"
   ]
  },
  {
   "cell_type": "code",
   "execution_count": null,
   "metadata": {},
   "outputs": [],
   "source": [
    "uploader = widgets.FileUpload(accept='.yml', multiple=False)\n",
    "display(uploader)"
   ]
  },
  {
   "cell_type": "code",
   "execution_count": null,
   "metadata": {},
   "outputs": [],
   "source": [
    "calib = yaml.safe_load(uploader.value[0].content.tobytes())\n",
    "camera = calib[0]['camera']\n",
    "focus = camera['focus']\n",
    "sx = camera['sx']\n",
    "sy = camera['sy']\n",
    "cx = camera['cx']\n",
    "cy = camera['cy']\n",
    "k1 = camera['k1']\n",
    "k2 = camera['k2']\n",
    "k3 = camera['k3']\n",
    "p1 = camera['p1']\n",
    "p2 = camera['p2']\n",
    "image_width = camera['image_width']\n",
    "image_height = camera['image_height']\n",
    "\n",
    "observ_points = np.array(calib[0]['calib_obj']['observ_points'])\n",
    "object_points = np.array(calib[0]['calib_obj']['object_points'])\n",
    "reproject_points = np.array(calib[0]['calib_obj']['reproject_points'])\n",
    "rvecs = np.array(calib[0]['calib_obj']['rvecs'])\n",
    "tvecs = np.array(calib[0]['calib_obj']['tvecs'])\n",
    "\n",
    "npos = len(object_points)"
   ]
  },
  {
   "cell_type": "code",
   "execution_count": null,
   "metadata": {},
   "outputs": [],
   "source": [
    "npos = 10\n",
    "int_slider = widgets.IntSlider(\n",
    "    value=0,\n",
    "    min=0,\n",
    "    max=npos,\n",
    "    step=1,\n",
    "    description='Pose:',\n",
    "    disabled=False,\n",
    "    continuous_update=False,\n",
    "    orientation='horizontal',\n",
    "    readout=True,\n",
    "    readout_format='d'\n",
    ")\n",
    "display(int_slider)"
   ]
  },
  {
   "cell_type": "code",
   "execution_count": null,
   "metadata": {},
   "outputs": [],
   "source": [
    "def draw(pos):\n",
    "    plt.plot(observ_points[pos, ..., 0], observ_points[pos, ..., 1])\n",
    "    plt.show()"
   ]
  },
  {
   "cell_type": "code",
   "execution_count": null,
   "metadata": {},
   "outputs": [],
   "source": [
    "interact(draw, pos=(0, npos - 1))"
   ]
  }
 ],
 "metadata": {
  "kernelspec": {
   "display_name": "Python 3.10.6 ('.venv': venv)",
   "language": "python",
   "name": "python3"
  },
  "language_info": {
   "codemirror_mode": {
    "name": "ipython",
    "version": 3
   },
   "file_extension": ".py",
   "mimetype": "text/x-python",
   "name": "python",
   "nbconvert_exporter": "python",
   "pygments_lexer": "ipython3",
   "version": "3.10.6"
  },
  "orig_nbformat": 4,
  "vscode": {
   "interpreter": {
    "hash": "3bea98c630c5ad8030672f52f3ae040396079bc3d076a6e9349775033bd511cc"
   }
  }
 },
 "nbformat": 4,
 "nbformat_minor": 2
}
