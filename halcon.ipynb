{
 "cells": [
  {
   "cell_type": "code",
   "execution_count": null,
   "metadata": {},
   "outputs": [],
   "source": [
    "%matplotlib widget\n",
    "\n",
    "import numpy as np\n",
    "import yaml\n",
    "import matplotlib.pyplot as plt\n",
    "import ipywidgets as widgets\n",
    "from ipywidgets import interact"
   ]
  },
  {
   "cell_type": "code",
   "execution_count": null,
   "metadata": {},
   "outputs": [],
   "source": [
    "uploader = widgets.FileUpload(accept='.yml', multiple=False)\n",
    "display(uploader)"
   ]
  },
  {
   "cell_type": "code",
   "execution_count": null,
   "metadata": {},
   "outputs": [],
   "source": [
    "calib, = yaml.safe_load(uploader.value[0].content.tobytes())\n",
    "camera = calib['camera']\n",
    "focus = camera['focus']\n",
    "sx = camera['sx']\n",
    "sy = camera['sy']\n",
    "cx = camera['cx']\n",
    "cy = camera['cy']\n",
    "k1 = camera['k1']\n",
    "k2 = camera['k2']\n",
    "k3 = camera['k3']\n",
    "p1 = camera['p1']\n",
    "p2 = camera['p2']\n",
    "image_width = camera['image_width']\n",
    "image_height = camera['image_height']\n",
    "\n",
    "observ_points = [np.array(p) for p in calib['calib_obj']['observ_points']]\n",
    "object_points = [np.array(p) for p in calib['calib_obj']['object_points']]\n",
    "reproject_points = [np.array(p) for p in calib['calib_obj']['reproject_points']]\n",
    "rvecs = np.array(calib['calib_obj']['rvecs'])\n",
    "tvecs = np.array(calib['calib_obj']['tvecs'])\n",
    "diff_points = [observ_point - reproject_point for observ_point, reproject_point in zip(observ_points, reproject_points)]\n",
    "\n",
    "npos = len(object_points)\n",
    "ylim_min, ylim_max = np.min(diff_points), np.max(diff_points)\n",
    "xlim_max = np.max([p.shape[0] for p in object_points])"
   ]
  },
  {
   "cell_type": "code",
   "execution_count": null,
   "metadata": {},
   "outputs": [],
   "source": [
    "def draw(pos):\n",
    "    fig = plt.figure(0)\n",
    "    if not fig.axes:\n",
    "        ax1 = plt.subplot(1, 2, 1)\n",
    "        ax2 = plt.subplot(2, 2, 2)\n",
    "        ax3 = plt.subplot(2, 2, 4, sharex=ax2, sharey=ax2)\n",
    "\n",
    "        ax1.plot([], [], 'b.', label='observ points')\n",
    "        ax1.plot([], [], 'rx', label='reproject points')\n",
    "        ax1.set_xlim(0, image_width)\n",
    "        ax1.set_ylim(image_height, 0)\n",
    "        ax1.set_xlabel('column')\n",
    "        ax1.set_ylabel('row')\n",
    "        ax1.legend()\n",
    "\n",
    "        ax2.set_title('Deviation in column')\n",
    "        ax2.plot([], 'b.')\n",
    "        ax2.set_xlim(0, xlim_max - 1)\n",
    "        ax2.set_ylim(ylim_min, ylim_max)\n",
    "        ax2.set_xlabel('index')\n",
    "        ax2.set_ylabel('pixel')\n",
    "\n",
    "        ax3.set_title('Deviation in row')\n",
    "        ax3.plot([], 'b.')\n",
    "        ax3.set_xlabel('index')\n",
    "        ax3.set_ylabel('pixel')\n",
    "    else:\n",
    "        ax1, ax2, ax3 = fig.axes\n",
    "\n",
    "    ax1.set_title\n",
    "    ln1, ln2 = ax1.get_lines()\n",
    "    ln1.set_data(observ_points[pos][..., 0], observ_points[pos][..., 1])\n",
    "    ln2.set_data(reproject_points[pos][..., 0], reproject_points[pos][..., 1])\n",
    "\n",
    "    ln3, = ax2.get_lines()\n",
    "    ln3.set_data(range(len(diff_points[pos][..., 0])), diff_points[pos][..., 0])\n",
    "\n",
    "    ln4, = ax3.get_lines()\n",
    "    ln4.set_data(range(len(diff_points[pos][..., 1])), diff_points[pos][..., 1])\n",
    "    plt.show()"
   ]
  },
  {
   "cell_type": "code",
   "execution_count": null,
   "metadata": {},
   "outputs": [],
   "source": [
    "interact(draw, pos=(0, npos - 1))"
   ]
  }
 ],
 "metadata": {
  "kernelspec": {
   "display_name": "Python 3 (ipykernel)",
   "language": "python",
   "name": "python3"
  },
  "language_info": {
   "codemirror_mode": {
    "name": "ipython",
    "version": 3
   },
   "file_extension": ".py",
   "mimetype": "text/x-python",
   "name": "python",
   "nbconvert_exporter": "python",
   "pygments_lexer": "ipython3",
   "version": "3.10.6"
  },
  "vscode": {
   "interpreter": {
    "hash": "3bea98c630c5ad8030672f52f3ae040396079bc3d076a6e9349775033bd511cc"
   }
  }
 },
 "nbformat": 4,
 "nbformat_minor": 4
}
